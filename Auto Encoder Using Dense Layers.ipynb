{
 "cells": [
  {
   "cell_type": "code",
   "execution_count": 1,
   "id": "dfbae1ac",
   "metadata": {
    "_cell_guid": "b1076dfc-b9ad-4769-8c92-a6c4dae69d19",
    "_uuid": "8f2839f25d086af736a60e9eeb907d3b93b6e0e5",
    "execution": {
     "iopub.execute_input": "2025-01-17T00:13:30.488488Z",
     "iopub.status.busy": "2025-01-17T00:13:30.488012Z",
     "iopub.status.idle": "2025-01-17T00:13:47.304475Z",
     "shell.execute_reply": "2025-01-17T00:13:47.303058Z"
    },
    "papermill": {
     "duration": 16.823465,
     "end_time": "2025-01-17T00:13:47.306690",
     "exception": false,
     "start_time": "2025-01-17T00:13:30.483225",
     "status": "completed"
    },
    "tags": []
   },
   "outputs": [],
   "source": [
    "import keras\n",
    "from keras.datasets import mnist\n",
    "from keras.models import Sequential\n",
    "from keras.layers import Input, Dense, Flatten\n",
    "from keras.models import Model"
   ]
  },
  {
   "cell_type": "code",
   "execution_count": 2,
   "id": "f4efbf90",
   "metadata": {
    "execution": {
     "iopub.execute_input": "2025-01-17T00:13:47.313978Z",
     "iopub.status.busy": "2025-01-17T00:13:47.313093Z",
     "iopub.status.idle": "2025-01-17T00:13:47.782862Z",
     "shell.execute_reply": "2025-01-17T00:13:47.781562Z"
    },
    "papermill": {
     "duration": 0.475345,
     "end_time": "2025-01-17T00:13:47.785061",
     "exception": false,
     "start_time": "2025-01-17T00:13:47.309716",
     "status": "completed"
    },
    "tags": []
   },
   "outputs": [
    {
     "name": "stdout",
     "output_type": "stream",
     "text": [
      "Downloading data from https://storage.googleapis.com/tensorflow/tf-keras-datasets/mnist.npz\n",
      "\u001b[1m11490434/11490434\u001b[0m \u001b[32m━━━━━━━━━━━━━━━━━━━━\u001b[0m\u001b[37m\u001b[0m \u001b[1m0s\u001b[0m 0us/step\n"
     ]
    }
   ],
   "source": [
    "(x_train, y_train), (x_test, y_test) = mnist.load_data()"
   ]
  },
  {
   "cell_type": "code",
   "execution_count": 3,
   "id": "e7cf4740",
   "metadata": {
    "execution": {
     "iopub.execute_input": "2025-01-17T00:13:47.806231Z",
     "iopub.status.busy": "2025-01-17T00:13:47.805805Z",
     "iopub.status.idle": "2025-01-17T00:13:48.190570Z",
     "shell.execute_reply": "2025-01-17T00:13:48.189432Z"
    },
    "papermill": {
     "duration": 0.391766,
     "end_time": "2025-01-17T00:13:48.192536",
     "exception": false,
     "start_time": "2025-01-17T00:13:47.800770",
     "status": "completed"
    },
    "tags": []
   },
   "outputs": [],
   "source": [
    "x_train = x_train/255\n",
    "x_test = x_test/255"
   ]
  },
  {
   "cell_type": "code",
   "execution_count": 4,
   "id": "4c522092",
   "metadata": {
    "execution": {
     "iopub.execute_input": "2025-01-17T00:13:48.201506Z",
     "iopub.status.busy": "2025-01-17T00:13:48.201106Z",
     "iopub.status.idle": "2025-01-17T00:13:48.317870Z",
     "shell.execute_reply": "2025-01-17T00:13:48.316782Z"
    },
    "papermill": {
     "duration": 0.123453,
     "end_time": "2025-01-17T00:13:48.320722",
     "exception": false,
     "start_time": "2025-01-17T00:13:48.197269",
     "status": "completed"
    },
    "tags": []
   },
   "outputs": [],
   "source": [
    "# Define the input shape\n",
    "input_img = Input(shape=(28, 28))  # Changed input shape to (28, 28)\n",
    "\n",
    "# Add a Flatten layer to reshape the input\n",
    "flattened_input = Flatten()(input_img) # Flatten the input\n",
    "\n",
    "# Encoder layers\n",
    "encoded1 = Dense(256, activation='relu')(flattened_input) # Connect to flattened input\n",
    "encoded2 = Dense(128, activation='relu')(encoded1)\n",
    "encoded3 = Dense(32, activation='relu')(encoded2)\n",
    "\n",
    "# Decoder layers\n",
    "decoded1 = Dense(32, activation='relu')(encoded3)\n",
    "decoded2 = Dense(128, activation='relu')(decoded1)\n",
    "decoded3 = Dense(784, activation='sigmoid')(decoded2)\n",
    "\n",
    "# Reshape the output to (28, 28)\n",
    "reshaped_output = keras.layers.Reshape((28, 28))(decoded3)"
   ]
  },
  {
   "cell_type": "code",
   "execution_count": 5,
   "id": "dea8ffdd",
   "metadata": {
    "execution": {
     "iopub.execute_input": "2025-01-17T00:13:48.331472Z",
     "iopub.status.busy": "2025-01-17T00:13:48.331038Z",
     "iopub.status.idle": "2025-01-17T00:13:48.357247Z",
     "shell.execute_reply": "2025-01-17T00:13:48.355739Z"
    },
    "papermill": {
     "duration": 0.034723,
     "end_time": "2025-01-17T00:13:48.359760",
     "exception": false,
     "start_time": "2025-01-17T00:13:48.325037",
     "status": "completed"
    },
    "tags": []
   },
   "outputs": [],
   "source": [
    "# Define the autoencoder model\n",
    "autoencoder = Model(input_img, reshaped_output)\n",
    "\n",
    "# Define the encoder model\n",
    "autoencoder.compile(optimizer='adam', loss='binary_crossentropy')"
   ]
  },
  {
   "cell_type": "code",
   "execution_count": 6,
   "id": "6691df6c",
   "metadata": {
    "execution": {
     "iopub.execute_input": "2025-01-17T00:13:48.370161Z",
     "iopub.status.busy": "2025-01-17T00:13:48.369731Z",
     "iopub.status.idle": "2025-01-17T00:16:03.587462Z",
     "shell.execute_reply": "2025-01-17T00:16:03.585929Z"
    },
    "papermill": {
     "duration": 135.22563,
     "end_time": "2025-01-17T00:16:03.589485",
     "exception": false,
     "start_time": "2025-01-17T00:13:48.363855",
     "status": "completed"
    },
    "tags": []
   },
   "outputs": [
    {
     "name": "stdout",
     "output_type": "stream",
     "text": [
      "Epoch 1/15\n",
      "\u001b[1m938/938\u001b[0m \u001b[32m━━━━━━━━━━━━━━━━━━━━\u001b[0m\u001b[37m\u001b[0m \u001b[1m11s\u001b[0m 10ms/step - loss: 0.2334 - val_loss: 0.1283\n",
      "Epoch 2/15\n",
      "\u001b[1m938/938\u001b[0m \u001b[32m━━━━━━━━━━━━━━━━━━━━\u001b[0m\u001b[37m\u001b[0m \u001b[1m9s\u001b[0m 9ms/step - loss: 0.1249 - val_loss: 0.1141\n",
      "Epoch 3/15\n",
      "\u001b[1m938/938\u001b[0m \u001b[32m━━━━━━━━━━━━━━━━━━━━\u001b[0m\u001b[37m\u001b[0m \u001b[1m9s\u001b[0m 9ms/step - loss: 0.1132 - val_loss: 0.1069\n",
      "Epoch 4/15\n",
      "\u001b[1m938/938\u001b[0m \u001b[32m━━━━━━━━━━━━━━━━━━━━\u001b[0m\u001b[37m\u001b[0m \u001b[1m9s\u001b[0m 9ms/step - loss: 0.1072 - val_loss: 0.1028\n",
      "Epoch 5/15\n",
      "\u001b[1m938/938\u001b[0m \u001b[32m━━━━━━━━━━━━━━━━━━━━\u001b[0m\u001b[37m\u001b[0m \u001b[1m9s\u001b[0m 9ms/step - loss: 0.1034 - val_loss: 0.0993\n",
      "Epoch 6/15\n",
      "\u001b[1m938/938\u001b[0m \u001b[32m━━━━━━━━━━━━━━━━━━━━\u001b[0m\u001b[37m\u001b[0m \u001b[1m9s\u001b[0m 9ms/step - loss: 0.1000 - val_loss: 0.0979\n",
      "Epoch 7/15\n",
      "\u001b[1m938/938\u001b[0m \u001b[32m━━━━━━━━━━━━━━━━━━━━\u001b[0m\u001b[37m\u001b[0m \u001b[1m9s\u001b[0m 9ms/step - loss: 0.0976 - val_loss: 0.0959\n",
      "Epoch 8/15\n",
      "\u001b[1m938/938\u001b[0m \u001b[32m━━━━━━━━━━━━━━━━━━━━\u001b[0m\u001b[37m\u001b[0m \u001b[1m9s\u001b[0m 9ms/step - loss: 0.0965 - val_loss: 0.0950\n",
      "Epoch 9/15\n",
      "\u001b[1m938/938\u001b[0m \u001b[32m━━━━━━━━━━━━━━━━━━━━\u001b[0m\u001b[37m\u001b[0m \u001b[1m9s\u001b[0m 9ms/step - loss: 0.0952 - val_loss: 0.0941\n",
      "Epoch 10/15\n",
      "\u001b[1m938/938\u001b[0m \u001b[32m━━━━━━━━━━━━━━━━━━━━\u001b[0m\u001b[37m\u001b[0m \u001b[1m9s\u001b[0m 9ms/step - loss: 0.0938 - val_loss: 0.0928\n",
      "Epoch 11/15\n",
      "\u001b[1m938/938\u001b[0m \u001b[32m━━━━━━━━━━━━━━━━━━━━\u001b[0m\u001b[37m\u001b[0m \u001b[1m9s\u001b[0m 9ms/step - loss: 0.0930 - val_loss: 0.0919\n",
      "Epoch 12/15\n",
      "\u001b[1m938/938\u001b[0m \u001b[32m━━━━━━━━━━━━━━━━━━━━\u001b[0m\u001b[37m\u001b[0m \u001b[1m9s\u001b[0m 9ms/step - loss: 0.0922 - val_loss: 0.0912\n",
      "Epoch 13/15\n",
      "\u001b[1m938/938\u001b[0m \u001b[32m━━━━━━━━━━━━━━━━━━━━\u001b[0m\u001b[37m\u001b[0m \u001b[1m9s\u001b[0m 9ms/step - loss: 0.0915 - val_loss: 0.0909\n",
      "Epoch 14/15\n",
      "\u001b[1m938/938\u001b[0m \u001b[32m━━━━━━━━━━━━━━━━━━━━\u001b[0m\u001b[37m\u001b[0m \u001b[1m9s\u001b[0m 9ms/step - loss: 0.0911 - val_loss: 0.0903\n",
      "Epoch 15/15\n",
      "\u001b[1m938/938\u001b[0m \u001b[32m━━━━━━━━━━━━━━━━━━━━\u001b[0m\u001b[37m\u001b[0m \u001b[1m9s\u001b[0m 10ms/step - loss: 0.0908 - val_loss: 0.0902\n"
     ]
    },
    {
     "data": {
      "text/plain": [
       "<keras.src.callbacks.history.History at 0x7f5d9825d7b0>"
      ]
     },
     "execution_count": 6,
     "metadata": {},
     "output_type": "execute_result"
    }
   ],
   "source": [
    "# Reshape x_train and x_test before fitting\n",
    "x_train_reshaped = x_train.reshape(-1, 28, 28) # Reshape x_train\n",
    "x_test_reshaped = x_test.reshape(-1, 28, 28)  # Reshape x_test\n",
    "\n",
    "\n",
    "# Fit Auto Encoder\n",
    "autoencoder.fit(x_train_reshaped, x_train_reshaped, epochs=15, batch_size=64, shuffle=True, validation_data=(x_test_reshaped, x_test_reshaped))"
   ]
  },
  {
   "cell_type": "code",
   "execution_count": 7,
   "id": "bc7e311b",
   "metadata": {
    "execution": {
     "iopub.execute_input": "2025-01-17T00:16:03.861790Z",
     "iopub.status.busy": "2025-01-17T00:16:03.861337Z",
     "iopub.status.idle": "2025-01-17T00:16:05.012702Z",
     "shell.execute_reply": "2025-01-17T00:16:05.011448Z"
    },
    "papermill": {
     "duration": 1.290309,
     "end_time": "2025-01-17T00:16:05.014850",
     "exception": false,
     "start_time": "2025-01-17T00:16:03.724541",
     "status": "completed"
    },
    "tags": []
   },
   "outputs": [
    {
     "name": "stdout",
     "output_type": "stream",
     "text": [
      "\u001b[1m313/313\u001b[0m \u001b[32m━━━━━━━━━━━━━━━━━━━━\u001b[0m\u001b[37m\u001b[0m \u001b[1m1s\u001b[0m 3ms/step\n"
     ]
    }
   ],
   "source": [
    "# show output of autoencoder\n",
    "decoded_imgs = autoencoder.predict(x_test_reshaped)"
   ]
  },
  {
   "cell_type": "code",
   "execution_count": 8,
   "id": "a87f73b3",
   "metadata": {
    "execution": {
     "iopub.execute_input": "2025-01-17T00:16:05.353671Z",
     "iopub.status.busy": "2025-01-17T00:16:05.353242Z",
     "iopub.status.idle": "2025-01-17T00:16:06.657633Z",
     "shell.execute_reply": "2025-01-17T00:16:06.656392Z"
    },
    "papermill": {
     "duration": 1.440641,
     "end_time": "2025-01-17T00:16:06.659438",
     "exception": false,
     "start_time": "2025-01-17T00:16:05.218797",
     "status": "completed"
    },
    "tags": []
   },
   "outputs": [
    {
     "data": {
      "image/png": "[encoded data removed]",
      "text/plain": [
       "<Figure size 2000x400 with 20 Axes>"
      ]
     },
     "metadata": {},
     "output_type": "display_data"
    }
   ],
   "source": [
    "import matplotlib.pyplot as plt\n",
    "\n",
    "# Plotting the original and reconstructed images\n",
    "n = 10  # Number of images to display\n",
    "plt.figure(figsize=(20, 4))\n",
    "for i in range(n):\n",
    "    # Display original images\n",
    "    ax = plt.subplot(2, n, i + 1)\n",
    "    plt.imshow(x_test_reshaped[i].reshape(28, 28))  # Adjust dimensions if needed\n",
    "    plt.gray()\n",
    "    ax.set_title(\"Original\")\n",
    "    ax.axis('off')\n",
    "\n",
    "    # Display reconstructed images\n",
    "    ax = plt.subplot(2, n, i + 1 + n)\n",
    "    plt.imshow(decoded_imgs[i].reshape(28, 28))  # Adjust dimensions if needed\n",
    "    plt.gray()\n",
    "    ax.set_title(\"Reconstructed\")\n",
    "    ax.axis('off')\n",
    "\n",
    "plt.tight_layout()\n",
    "plt.show()\n"
   ]
  }
 ],
 "metadata": {
  "kaggle": {
   "accelerator": "none",
   "dataSources": [],
   "dockerImageVersionId": 30839,
   "isGpuEnabled": false,
   "isInternetEnabled": true,
   "language": "python",
   "sourceType": "notebook"
  },
  "kernelspec": {
   "display_name": "Python 3",
   "language": "python",
   "name": "python3"
  },
  "language_info": {
   "codemirror_mode": {
    "name": "ipython",
    "version": 3
   },
   "file_extension": ".py",
   "mimetype": "text/x-python",
   "name": "python",
   "nbconvert_exporter": "python",
   "pygments_lexer": "ipython3",
   "version": "3.10.12"
  },
  "papermill": {
   "default_parameters": {},
   "duration": 162.212528,
   "end_time": "2025-01-17T00:16:09.178681",
   "environment_variables": {},
   "exception": null,
   "input_path": "__notebook__.ipynb",
   "output_path": "__notebook__.ipynb",
   "parameters": {},
   "start_time": "2025-01-17T00:13:26.966153",
   "version": "2.6.0"
  }
 },
 "nbformat": 4,
 "nbformat_minor": 5
}
